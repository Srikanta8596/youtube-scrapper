{
 "cells": [
  {
   "cell_type": "code",
   "execution_count": null,
   "id": "25de4182",
   "metadata": {},
   "outputs": [],
   "source": [
    "#Title,views,video_link,Video_thumbnail\n",
    "#Read this link\n",
    "#https://www.scrapingbee.com/blog/web-scraping-youtube/?utm_source=related_content"
   ]
  },
  {
   "cell_type": "code",
   "execution_count": null,
   "id": "2210fc2a",
   "metadata": {},
   "outputs": [],
   "source": [
    "import time\n",
    "import pprint\n",
    "\n",
    "from selenium import webdriver\n",
    "from selenium.webdriver.chrome.service import Service\n",
    "from webdriver_manager.chrome import ChromeDriverManager\n",
    "from selenium.webdriver.common.by import By\n",
    "\n",
    "driver = webdriver.Chrome(service=Service(ChromeDriverManager().install()))\n",
    "driver.get(\"https://www.youtube.com/@krishnaik06/videos\")\n",
    "\n",
    "channel_title = driver.find_element(By.XPATH, '//yt-formatted-string[contains(@class, \"ytd-channel-name\")]').text\n",
    "handle = driver.find_element(By.XPATH, '//yt-formatted-string[@id=\"channel-handle\"]').text\n",
    "subscriber_count = driver.find_element(By.XPATH, '//yt-formatted-string[@id=\"subscriber-count\"]').text\n",
    "\n",
    "WAIT_IN_SECONDS = 5\n",
    "last_height = driver.execute_script(\"return document.documentElement.scrollHeight\")\n",
    "\n",
    "while True:\n",
    "    # Scroll to the bottom of page\n",
    "    driver.execute_script(\"window.scrollTo(0, arguments[0]);\", last_height)\n",
    "    # Wait for new videos to show up\n",
    "    time.sleep(WAIT_IN_SECONDS)\n",
    "    \n",
    "    # Calculate new document height and compare it with last height\n",
    "    new_height = driver.execute_script(\"return document.documentElement.scrollHeight\")\n",
    "    if new_height == last_height:\n",
    "        break\n",
    "    last_height = new_height\n",
    "\n",
    "\n",
    "thumbnails = driver.find_elements(By.XPATH, '//a[@id=\"thumbnail\"]/yt-image/img')\n",
    "views = driver.find_elements(By.XPATH,'//div[@id=\"metadata-line\"]/span[1]')\n",
    "titles = driver.find_elements(By.ID, \"video-title\")\n",
    "links = driver.find_elements(By.ID, \"video-title-link\")\n",
    "\n",
    "videos = []\n",
    "for title, view, thumb, link in zip(titles, views, thumbnails, links):\n",
    "    video_dict = {\n",
    "        'title': title.text,\n",
    "        'views': view.text,\n",
    "        'thumbnail': thumb.get_attribute('src'),\n",
    "        'link': link.get_attribute('href')\n",
    "    }\n",
    "    videos.append(video_dict)\n",
    "\n",
    "print(videos)"
   ]
  },
  {
   "cell_type": "code",
   "execution_count": null,
   "id": "a1bb8452",
   "metadata": {},
   "outputs": [],
   "source": [
    "number_of_videos=len(videos)\n",
    "number_of_videos"
   ]
  },
  {
   "cell_type": "code",
   "execution_count": null,
   "id": "58e30c0e",
   "metadata": {},
   "outputs": [],
   "source": [
    "#Go to the each link and give all detail"
   ]
  },
  {
   "cell_type": "code",
   "execution_count": 54,
   "id": "97b1d826",
   "metadata": {},
   "outputs": [],
   "source": [
    "#Import packages\n",
    "from selenium import webdriver\n",
    "from selenium.webdriver.common.by import By\n",
    "from bs4 import BeautifulSoup\n",
    "import time"
   ]
  },
  {
   "cell_type": "code",
   "execution_count": 55,
   "id": "95641ccf",
   "metadata": {},
   "outputs": [],
   "source": [
    "youtube_video_url = \"https://www.youtube.com/watch?v=0vnaw8soiO4&list=UULFNU_lfiiWBdtULKOw6X0Dig\""
   ]
  },
  {
   "cell_type": "code",
   "execution_count": 56,
   "id": "e50c73dc",
   "metadata": {},
   "outputs": [
    {
     "name": "stderr",
     "output_type": "stream",
     "text": [
      "C:\\Users\\Srikanta\\AppData\\Local\\Temp\\ipykernel_18924\\899536952.py:1: DeprecationWarning: executable_path has been deprecated, please pass in a Service object\n",
      "  driver = webdriver.Chrome(executable_path=r'C:\\Users\\Srikanta\\Desktop\\FullStackDataScience\\Challenges\\IneuronScrapper\\chromedriver')\n"
     ]
    }
   ],
   "source": [
    "driver = webdriver.Chrome(executable_path=r'C:\\Users\\Srikanta\\Desktop\\FullStackDataScience\\Challenges\\IneuronScrapper\\chromedriver')"
   ]
  },
  {
   "cell_type": "code",
   "execution_count": 57,
   "id": "58b8661f",
   "metadata": {},
   "outputs": [],
   "source": [
    "driver.implicitly_wait(2)"
   ]
  },
  {
   "cell_type": "code",
   "execution_count": 58,
   "id": "9ff2897d",
   "metadata": {},
   "outputs": [],
   "source": [
    "driver.get(youtube_video_url)\n",
    "time.sleep(5)"
   ]
  },
  {
   "cell_type": "code",
   "execution_count": 59,
   "id": "4c797f7c",
   "metadata": {},
   "outputs": [],
   "source": [
    "# ## Pause youtube video if needed\n",
    "\n",
    "# pause = WebDriverWait(driver, 10).until(EC.element_to_be_clickable((By.CLASS_NAME, 'ytp-play-button')))\n",
    "\n",
    "# pause.click()\n",
    "# time.sleep(0.2)\n",
    "# pause.click()\n",
    "# time.sleep(4)\n"
   ]
  },
  {
   "cell_type": "code",
   "execution_count": null,
   "id": "9fae088f",
   "metadata": {},
   "outputs": [],
   "source": []
  },
  {
   "cell_type": "code",
   "execution_count": 60,
   "id": "3fa0b915",
   "metadata": {},
   "outputs": [],
   "source": [
    "#infinity scroll\n",
    "WAIT_IN_SECONDS = 5\n",
    "last_height = driver.execute_script(\"return document.documentElement.scrollHeight\")\n",
    "#Why i am getting error with same ineuron infinity code\n",
    "#Because in ineuron we search as perbody but in youtube we have go as per element\n",
    "### current_height=driver.execute_script('return document.body.scrollHeight;')\n",
    "\n",
    "while True:\n",
    "    # Scroll to the bottom of page\n",
    "    driver.execute_script(\"window.scrollTo(0, arguments[0]);\", last_height)\n",
    "    # Wait for new videos to show up\n",
    "    time.sleep(WAIT_IN_SECONDS)\n",
    "    \n",
    "    # Calculate new document height and compare it with last height\n",
    "    new_height = driver.execute_script(\"return document.documentElement.scrollHeight\")\n",
    "    if new_height == last_height:\n",
    "        break\n",
    "    last_height = new_height"
   ]
  },
  {
   "cell_type": "code",
   "execution_count": 61,
   "id": "bc515672",
   "metadata": {},
   "outputs": [],
   "source": [
    "html_data=driver.page_source"
   ]
  },
  {
   "cell_type": "code",
   "execution_count": 62,
   "id": "753268c3",
   "metadata": {},
   "outputs": [
    {
     "data": {
      "text/plain": [
       "'How Raghav Got 6 Offers In Data Science Coming From Non Technical Domain @iNeuroniNtelligence'"
      ]
     },
     "execution_count": 62,
     "metadata": {},
     "output_type": "execute_result"
    }
   ],
   "source": [
    "## title of video\n",
    "video_title = driver.find_element(By.NAME, 'title').get_attribute('content')\n",
    "video_title"
   ]
  },
  {
   "cell_type": "code",
   "execution_count": 63,
   "id": "7298eaa7",
   "metadata": {},
   "outputs": [],
   "source": [
    "## owner of video\n",
    "video_owner = driver.find_elements(By.XPATH, '//*[@id=\"text\"]/a')"
   ]
  },
  {
   "cell_type": "code",
   "execution_count": 64,
   "id": "448488ee",
   "metadata": {},
   "outputs": [
    {
     "data": {
      "text/plain": [
       "'Krish Naik'"
      ]
     },
     "execution_count": 64,
     "metadata": {},
     "output_type": "execute_result"
    }
   ],
   "source": [
    "video_owner[0].text"
   ]
  },
  {
   "cell_type": "code",
   "execution_count": 65,
   "id": "bd38c942",
   "metadata": {},
   "outputs": [],
   "source": [
    "test=-1*(last_height)\n",
    "driver.execute_script(\"window.scrollTo(0, arguments[0]);\",test)"
   ]
  },
  {
   "cell_type": "code",
   "execution_count": 66,
   "id": "1dfd8820",
   "metadata": {},
   "outputs": [],
   "source": [
    "time.sleep(5)"
   ]
  },
  {
   "cell_type": "code",
   "execution_count": 67,
   "id": "c7eed0da",
   "metadata": {},
   "outputs": [],
   "source": [
    "driver.execute_script('window.scrollBy(0,500);')"
   ]
  },
  {
   "cell_type": "code",
   "execution_count": 68,
   "id": "8b952246",
   "metadata": {},
   "outputs": [],
   "source": [
    "time.sleep(10)"
   ]
  },
  {
   "cell_type": "code",
   "execution_count": 70,
   "id": "3bde9121",
   "metadata": {},
   "outputs": [],
   "source": [
    "# total comments with replies\n",
    "video_comment_with_replies = driver.find_element(By.XPATH, '//*[@id=\"count\"]/yt-formatted-string/span[1]').text + ' Comments'\n"
   ]
  },
  {
   "cell_type": "code",
   "execution_count": 71,
   "id": "b812e3c2",
   "metadata": {},
   "outputs": [
    {
     "data": {
      "text/plain": [
       "'24 Comments'"
      ]
     },
     "execution_count": 71,
     "metadata": {},
     "output_type": "execute_result"
    }
   ],
   "source": [
    "video_comment_with_replies "
   ]
  },
  {
   "cell_type": "code",
   "execution_count": 72,
   "id": "cb4d4ec5",
   "metadata": {},
   "outputs": [],
   "source": [
    "# total number of likes"
   ]
  },
  {
   "cell_type": "code",
   "execution_count": 73,
   "id": "487652b9",
   "metadata": {},
   "outputs": [
    {
     "data": {
      "text/plain": [
       "'300'"
      ]
     },
     "execution_count": 73,
     "metadata": {},
     "output_type": "execute_result"
    }
   ],
   "source": [
    "total_likes=driver.find_element(By.XPATH, '//*[@id=\"segmented-like-button\"]')\n",
    "total_likes.text"
   ]
  },
  {
   "cell_type": "code",
   "execution_count": null,
   "id": "4a1785f7",
   "metadata": {},
   "outputs": [],
   "source": []
  },
  {
   "cell_type": "code",
   "execution_count": 74,
   "id": "c152d853",
   "metadata": {},
   "outputs": [],
   "source": [
    "## Scraping all the comments\n",
    "users = driver.find_elements(By.XPATH, '//*[@id=\"author-text\"]/span')\n",
    "comments = driver.find_elements(By.XPATH, '//*[@id=\"content-text\"]')"
   ]
  },
  {
   "cell_type": "code",
   "execution_count": 75,
   "id": "c55eb6c1",
   "metadata": {},
   "outputs": [
    {
     "data": {
      "text/plain": [
       "[<selenium.webdriver.remote.webelement.WebElement (session=\"6aeac9ae35300f2bdbddb2fb10ef667b\", element=\"a6458b78-a847-4e9b-9444-64b058d8ad10\")>,\n",
       " <selenium.webdriver.remote.webelement.WebElement (session=\"6aeac9ae35300f2bdbddb2fb10ef667b\", element=\"ffac359c-684f-4444-a4f5-ec64f02a43d5\")>,\n",
       " <selenium.webdriver.remote.webelement.WebElement (session=\"6aeac9ae35300f2bdbddb2fb10ef667b\", element=\"459483ac-541f-4f15-ac9f-29574c326cd0\")>,\n",
       " <selenium.webdriver.remote.webelement.WebElement (session=\"6aeac9ae35300f2bdbddb2fb10ef667b\", element=\"936a7767-df3c-45bb-9fd1-bf65f232139e\")>,\n",
       " <selenium.webdriver.remote.webelement.WebElement (session=\"6aeac9ae35300f2bdbddb2fb10ef667b\", element=\"aaf41a0e-20f1-4277-a920-8a6a147ddcae\")>,\n",
       " <selenium.webdriver.remote.webelement.WebElement (session=\"6aeac9ae35300f2bdbddb2fb10ef667b\", element=\"99829a51-cfa0-459d-8bf8-6a33ac674d14\")>,\n",
       " <selenium.webdriver.remote.webelement.WebElement (session=\"6aeac9ae35300f2bdbddb2fb10ef667b\", element=\"89a8efbd-4d13-48a2-8000-fab0910ed0b2\")>,\n",
       " <selenium.webdriver.remote.webelement.WebElement (session=\"6aeac9ae35300f2bdbddb2fb10ef667b\", element=\"f01eab2d-5704-4d3a-b9ac-21c9a9f53d7b\")>,\n",
       " <selenium.webdriver.remote.webelement.WebElement (session=\"6aeac9ae35300f2bdbddb2fb10ef667b\", element=\"59b3edf7-d18e-44b8-b1ca-28e264597bb7\")>,\n",
       " <selenium.webdriver.remote.webelement.WebElement (session=\"6aeac9ae35300f2bdbddb2fb10ef667b\", element=\"bfba534e-faa3-4d87-8c13-5ddd7b16f629\")>,\n",
       " <selenium.webdriver.remote.webelement.WebElement (session=\"6aeac9ae35300f2bdbddb2fb10ef667b\", element=\"e9ea8cd2-0dae-4062-842d-dcd386618868\")>,\n",
       " <selenium.webdriver.remote.webelement.WebElement (session=\"6aeac9ae35300f2bdbddb2fb10ef667b\", element=\"c1acfb5c-d9aa-4c83-afd7-58445b3d9f70\")>,\n",
       " <selenium.webdriver.remote.webelement.WebElement (session=\"6aeac9ae35300f2bdbddb2fb10ef667b\", element=\"bd91c23e-f9b3-49fe-a9be-4ba2a79f100d\")>,\n",
       " <selenium.webdriver.remote.webelement.WebElement (session=\"6aeac9ae35300f2bdbddb2fb10ef667b\", element=\"924dbd10-addc-477a-9f40-805f7fc754f3\")>,\n",
       " <selenium.webdriver.remote.webelement.WebElement (session=\"6aeac9ae35300f2bdbddb2fb10ef667b\", element=\"c325caf2-53c7-43ba-8649-a8b9fb460b80\")>,\n",
       " <selenium.webdriver.remote.webelement.WebElement (session=\"6aeac9ae35300f2bdbddb2fb10ef667b\", element=\"23c03f38-1772-471e-918a-c5b3bd3f0e28\")>,\n",
       " <selenium.webdriver.remote.webelement.WebElement (session=\"6aeac9ae35300f2bdbddb2fb10ef667b\", element=\"ae87683b-38a0-4fa0-b625-6154abc61e96\")>,\n",
       " <selenium.webdriver.remote.webelement.WebElement (session=\"6aeac9ae35300f2bdbddb2fb10ef667b\", element=\"682b3293-525b-4aa5-846c-ed557934ad78\")>,\n",
       " <selenium.webdriver.remote.webelement.WebElement (session=\"6aeac9ae35300f2bdbddb2fb10ef667b\", element=\"ad7cf168-426d-4a48-bce3-390e47ca13c6\")>]"
      ]
     },
     "execution_count": 75,
     "metadata": {},
     "output_type": "execute_result"
    }
   ],
   "source": [
    "users "
   ]
  },
  {
   "cell_type": "code",
   "execution_count": 76,
   "id": "b5188b2e",
   "metadata": {},
   "outputs": [
    {
     "data": {
      "text/plain": [
       "[<selenium.webdriver.remote.webelement.WebElement (session=\"6aeac9ae35300f2bdbddb2fb10ef667b\", element=\"b42321ee-02f0-438f-ab61-37c910c19792\")>,\n",
       " <selenium.webdriver.remote.webelement.WebElement (session=\"6aeac9ae35300f2bdbddb2fb10ef667b\", element=\"9fb8a1ba-337b-4d44-a7d2-b9350f1c2008\")>,\n",
       " <selenium.webdriver.remote.webelement.WebElement (session=\"6aeac9ae35300f2bdbddb2fb10ef667b\", element=\"4b0d46e2-1441-45b8-83a6-b77b7ea01c6a\")>,\n",
       " <selenium.webdriver.remote.webelement.WebElement (session=\"6aeac9ae35300f2bdbddb2fb10ef667b\", element=\"c6e6e717-7b18-4845-97ab-df9789920307\")>,\n",
       " <selenium.webdriver.remote.webelement.WebElement (session=\"6aeac9ae35300f2bdbddb2fb10ef667b\", element=\"3393fe2c-14b1-4efb-a72d-b958ec988939\")>,\n",
       " <selenium.webdriver.remote.webelement.WebElement (session=\"6aeac9ae35300f2bdbddb2fb10ef667b\", element=\"d4c163fa-d15c-437d-9802-8bd33ac854a8\")>,\n",
       " <selenium.webdriver.remote.webelement.WebElement (session=\"6aeac9ae35300f2bdbddb2fb10ef667b\", element=\"1cb0a0fa-a7f4-4bb4-872e-f6193cb2219d\")>,\n",
       " <selenium.webdriver.remote.webelement.WebElement (session=\"6aeac9ae35300f2bdbddb2fb10ef667b\", element=\"449fdc3c-cb54-46db-b119-6854318ededc\")>,\n",
       " <selenium.webdriver.remote.webelement.WebElement (session=\"6aeac9ae35300f2bdbddb2fb10ef667b\", element=\"d1d037ab-1faa-4b07-9335-bfd69a4f196f\")>,\n",
       " <selenium.webdriver.remote.webelement.WebElement (session=\"6aeac9ae35300f2bdbddb2fb10ef667b\", element=\"05ead7e5-54da-486d-9673-3ec0f88d24d6\")>,\n",
       " <selenium.webdriver.remote.webelement.WebElement (session=\"6aeac9ae35300f2bdbddb2fb10ef667b\", element=\"f66bc075-1650-4ae8-bed7-013880ce37c1\")>,\n",
       " <selenium.webdriver.remote.webelement.WebElement (session=\"6aeac9ae35300f2bdbddb2fb10ef667b\", element=\"7806fb71-933a-40a2-a401-0b3407ea7d04\")>,\n",
       " <selenium.webdriver.remote.webelement.WebElement (session=\"6aeac9ae35300f2bdbddb2fb10ef667b\", element=\"5d0be45c-eaa7-494b-95cc-ff907a74cd2b\")>,\n",
       " <selenium.webdriver.remote.webelement.WebElement (session=\"6aeac9ae35300f2bdbddb2fb10ef667b\", element=\"ccbb434f-fb0f-4e1e-a037-02e10ba88e3d\")>,\n",
       " <selenium.webdriver.remote.webelement.WebElement (session=\"6aeac9ae35300f2bdbddb2fb10ef667b\", element=\"a0ac4517-93e4-49e8-b6cb-edf22390cf53\")>,\n",
       " <selenium.webdriver.remote.webelement.WebElement (session=\"6aeac9ae35300f2bdbddb2fb10ef667b\", element=\"f4307114-a4ce-482a-a895-ac203e74c4ec\")>,\n",
       " <selenium.webdriver.remote.webelement.WebElement (session=\"6aeac9ae35300f2bdbddb2fb10ef667b\", element=\"354929e7-a4c2-44e7-909a-7b4030094184\")>,\n",
       " <selenium.webdriver.remote.webelement.WebElement (session=\"6aeac9ae35300f2bdbddb2fb10ef667b\", element=\"6cfe3789-f6cd-41e3-9bde-2cec4bd40fac\")>,\n",
       " <selenium.webdriver.remote.webelement.WebElement (session=\"6aeac9ae35300f2bdbddb2fb10ef667b\", element=\"db105799-9568-4db3-a6f6-c19dbb787244\")>]"
      ]
     },
     "execution_count": 76,
     "metadata": {},
     "output_type": "execute_result"
    }
   ],
   "source": [
    "comments"
   ]
  },
  {
   "cell_type": "code",
   "execution_count": 77,
   "id": "eea1a766",
   "metadata": {},
   "outputs": [
    {
     "data": {
      "text/plain": [
       "'@AkshmaNargotra'"
      ]
     },
     "execution_count": 77,
     "metadata": {},
     "output_type": "execute_result"
    }
   ],
   "source": [
    "users[0].text"
   ]
  },
  {
   "cell_type": "code",
   "execution_count": 78,
   "id": "0de1c907",
   "metadata": {},
   "outputs": [
    {
     "data": {
      "text/plain": [
       "'Hardwork pays off\\nKeep it up Raghav'"
      ]
     },
     "execution_count": 78,
     "metadata": {},
     "output_type": "execute_result"
    }
   ],
   "source": [
    "comments[0].text "
   ]
  },
  {
   "cell_type": "code",
   "execution_count": 79,
   "id": "59f6835e",
   "metadata": {},
   "outputs": [
    {
     "data": {
      "text/plain": [
       "19"
      ]
     },
     "execution_count": 79,
     "metadata": {},
     "output_type": "execute_result"
    }
   ],
   "source": [
    "len(users)"
   ]
  },
  {
   "cell_type": "code",
   "execution_count": 80,
   "id": "cb211073",
   "metadata": {},
   "outputs": [
    {
     "data": {
      "text/plain": [
       "'@umeshmahajan7501'"
      ]
     },
     "execution_count": 80,
     "metadata": {},
     "output_type": "execute_result"
    }
   ],
   "source": [
    "users[1].text"
   ]
  },
  {
   "cell_type": "code",
   "execution_count": 81,
   "id": "3b6b93cc",
   "metadata": {},
   "outputs": [],
   "source": [
    "# video descriotion"
   ]
  },
  {
   "cell_type": "code",
   "execution_count": null,
   "id": "219925b7",
   "metadata": {},
   "outputs": [],
   "source": []
  },
  {
   "cell_type": "code",
   "execution_count": 82,
   "id": "61c26e19",
   "metadata": {},
   "outputs": [],
   "source": [
    "#!pip install webdriver_manager"
   ]
  },
  {
   "cell_type": "code",
   "execution_count": 83,
   "id": "6b145559",
   "metadata": {},
   "outputs": [],
   "source": [
    "#pip uninstall pprintpp"
   ]
  },
  {
   "cell_type": "code",
   "execution_count": 84,
   "id": "f492e744",
   "metadata": {},
   "outputs": [
    {
     "data": {
      "text/plain": [
       "<selenium.webdriver.remote.webelement.WebElement (session=\"6aeac9ae35300f2bdbddb2fb10ef667b\", element=\"7e3b761e-d94e-42af-8959-b31a62cc9692\")>"
      ]
     },
     "execution_count": 84,
     "metadata": {},
     "output_type": "execute_result"
    }
   ],
   "source": [
    "show_more=driver.find_element(By.ID,\"expand\")\n",
    "show_more"
   ]
  },
  {
   "cell_type": "code",
   "execution_count": 85,
   "id": "f5b061d7",
   "metadata": {},
   "outputs": [],
   "source": [
    "show_more.click()"
   ]
  },
  {
   "cell_type": "code",
   "execution_count": 86,
   "id": "0efef14a",
   "metadata": {},
   "outputs": [
    {
     "data": {
      "text/plain": [
       "\"7,116 views  Feb 13, 2023\\n#fsdsbootcamp\\nRaghav's Linkedin : https://www.linkedin.com/in/raghavbak...\\nBest Affordable Data Science Course From Pwskills(6-7 Months)\\n\\nImpact Batch:- Data-Science-Masters (Full Stack Data Science)\\n1. Data Science Masters Hindi: https://bit.ly/3CKX1od (Hindi)\\n2. Data Science Masters English: https://bit.ly/3iEjWuH (English)\\n------------------------------------------------------------------------------------------------\\nCheck Out My Other Playlist\\nPython Playlist:\\nPython In English:https://www.youtube.com/watch?v=bPrmA...\\n\\nPython In Hindi: https://www.youtube.com/watch?v=MJd9d...\\n\\nStats Playlist: \\nEnglish 7 Days Statistics Live Session :https://www.youtube.com/watch?v=11unm...\\nHindi: Stats Playlist: https://www.youtube.com/watch?v=7y3Xc...\\n\\nComplete ML Playlist: https://www.youtube.com/watch?v=bPrmA...\\n\\nHindi: ML Playlist: https://www.youtube.com/watch?v=7uwa9...\\n5 DaysLive Deep Learning Playlist: https://www.youtube.com/watch?v=8arGW...\\n\\nComplete Deep Learning Playlist: \\nhttps://www.youtube.com/watch?v=YFNKn...\\nShow less\""
      ]
     },
     "execution_count": 86,
     "metadata": {},
     "output_type": "execute_result"
    }
   ],
   "source": [
    "description=driver.find_element(By.ID,\"description-inner\").text\n",
    "description"
   ]
  },
  {
   "cell_type": "code",
   "execution_count": 107,
   "id": "4daff176",
   "metadata": {},
   "outputs": [
    {
     "data": {
      "text/plain": [
       "<selenium.webdriver.remote.webelement.WebElement (session=\"6aeac9ae35300f2bdbddb2fb10ef667b\", element=\"36836c91-3fbe-413e-8e64-59863f41f217\")>"
      ]
     },
     "execution_count": 107,
     "metadata": {},
     "output_type": "execute_result"
    }
   ],
   "source": [
    "# more_replies=driver.find_element(By.CLASS_NAME,\"yt-spec-touch-feedback-shape--touch-response\")\n",
    "# more_replies"
   ]
  },
  {
   "cell_type": "code",
   "execution_count": 109,
   "id": "4c380a7f",
   "metadata": {},
   "outputs": [],
   "source": [
    "# more_replies.click()"
   ]
  },
  {
   "cell_type": "code",
   "execution_count": 106,
   "id": "2b07a824",
   "metadata": {},
   "outputs": [],
   "source": [
    "data= BeautifulSoup(html_data, \"html.parser\")"
   ]
  },
  {
   "cell_type": "code",
   "execution_count": null,
   "id": "ed570293",
   "metadata": {},
   "outputs": [],
   "source": []
  }
 ],
 "metadata": {
  "kernelspec": {
   "display_name": "Python 3 (ipykernel)",
   "language": "python",
   "name": "python3"
  },
  "language_info": {
   "codemirror_mode": {
    "name": "ipython",
    "version": 3
   },
   "file_extension": ".py",
   "mimetype": "text/x-python",
   "name": "python",
   "nbconvert_exporter": "python",
   "pygments_lexer": "ipython3",
   "version": "3.9.12"
  }
 },
 "nbformat": 4,
 "nbformat_minor": 5
}
