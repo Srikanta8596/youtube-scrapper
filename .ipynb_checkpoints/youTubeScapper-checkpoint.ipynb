{
 "cells": [
  {
   "cell_type": "code",
   "execution_count": 1,
   "id": "7dacbfaf",
   "metadata": {},
   "outputs": [],
   "source": [
    "#Import packages\n",
    "from selenium import webdriver\n",
    "from selenium.webdriver.common.by import By\n",
    "from bs4 import BeautifulSoup\n",
    "import time"
   ]
  },
  {
   "cell_type": "code",
   "execution_count": 2,
   "id": "aa9da89f",
   "metadata": {},
   "outputs": [],
   "source": [
    "channelName =\"krishnaik06\"\n",
    "youtube_url=\"https://www.youtube.com/\"\n",
    "youtube_video_url = \"https://www.youtube.com/\" + channelName"
   ]
  },
  {
   "cell_type": "code",
   "execution_count": 3,
   "id": "8599ea33",
   "metadata": {},
   "outputs": [
    {
     "name": "stderr",
     "output_type": "stream",
     "text": [
      "C:\\Users\\Srikanta\\AppData\\Local\\Temp\\ipykernel_4680\\899536952.py:1: DeprecationWarning: executable_path has been deprecated, please pass in a Service object\n",
      "  driver = webdriver.Chrome(executable_path=r'C:\\Users\\Srikanta\\Desktop\\FullStackDataScience\\Challenges\\IneuronScrapper\\chromedriver')\n"
     ]
    }
   ],
   "source": [
    "driver = webdriver.Chrome(executable_path=r'C:\\Users\\Srikanta\\Desktop\\FullStackDataScience\\Challenges\\IneuronScrapper\\chromedriver')"
   ]
  },
  {
   "cell_type": "code",
   "execution_count": 4,
   "id": "84bbc52a",
   "metadata": {},
   "outputs": [],
   "source": [
    "driver.implicitly_wait(2)"
   ]
  },
  {
   "cell_type": "code",
   "execution_count": 5,
   "id": "f17731c5",
   "metadata": {},
   "outputs": [],
   "source": [
    "driver.get(youtube_video_url)\n",
    "time.sleep(5)"
   ]
  },
  {
   "cell_type": "code",
   "execution_count": 6,
   "id": "503ff9cd",
   "metadata": {},
   "outputs": [
    {
     "data": {
      "text/plain": [
       "'Krish Naik - YouTube'"
      ]
     },
     "execution_count": 6,
     "metadata": {},
     "output_type": "execute_result"
    }
   ],
   "source": [
    "driver.title"
   ]
  },
  {
   "cell_type": "code",
   "execution_count": 8,
   "id": "4bb5c9a7",
   "metadata": {},
   "outputs": [
    {
     "data": {
      "text/plain": [
       "<selenium.webdriver.remote.webelement.WebElement (session=\"d4fc2ad13f265af623ae882edcd78545\", element=\"e587ea64-a38d-46a6-ab9a-f2e7e1369016\")>"
      ]
     },
     "execution_count": 8,
     "metadata": {},
     "output_type": "execute_result"
    }
   ],
   "source": [
    "#click on Play all button\n",
    "play_all=driver.find_element(By.ID,\"play-button\")\n",
    "play_all"
   ]
  },
  {
   "cell_type": "code",
   "execution_count": 9,
   "id": "5b8cde64",
   "metadata": {},
   "outputs": [],
   "source": [
    "play_all.click()"
   ]
  },
  {
   "cell_type": "code",
   "execution_count": null,
   "id": "5dc9ca5d",
   "metadata": {},
   "outputs": [],
   "source": [
    "# before going for anythong hide the screen and stop the volume"
   ]
  },
  {
   "cell_type": "code",
   "execution_count": null,
   "id": "c43e8a0d",
   "metadata": {},
   "outputs": [],
   "source": [
    "#Count a;ll video\n",
    "count=1\n",
    "for "
   ]
  },
  {
   "cell_type": "code",
   "execution_count": null,
   "id": "e1cc8c07",
   "metadata": {},
   "outputs": [],
   "source": [
    "html_content=driver.page_source"
   ]
  },
  {
   "cell_type": "code",
   "execution_count": null,
   "id": "ed966073",
   "metadata": {},
   "outputs": [],
   "source": [
    "html_content"
   ]
  },
  {
   "cell_type": "code",
   "execution_count": null,
   "id": "daa476f3",
   "metadata": {},
   "outputs": [],
   "source": [
    "data = BeautifulSoup(html_content, \"html.parser\")"
   ]
  },
  {
   "cell_type": "code",
   "execution_count": null,
   "id": "86da1239",
   "metadata": {},
   "outputs": [],
   "source": [
    "number_of_videos=data.find(class_=\"index-message-wrapper style-scope ytd-playlist-panel-renderer\")\n",
    "number_of_videos"
   ]
  },
  {
   "cell_type": "code",
   "execution_count": null,
   "id": "390c06f6",
   "metadata": {},
   "outputs": [],
   "source": [
    "number_of_videos.text"
   ]
  },
  {
   "cell_type": "code",
   "execution_count": null,
   "id": "80716d06",
   "metadata": {},
   "outputs": [],
   "source": [
    "import re\n",
    "import json\n",
    "import requests\n",
    "from bs4 import BeautifulSoup\n",
    "\n",
    "URL = \"https://www.youtube.com/watch?v=0vnaw8soiO4&list=UULFNU_lfiiWBdtULKOw6X0Dig\"\n",
    "soup = BeautifulSoup(requests.get(URL).content, \"html.parser\")\n",
    "\n",
    "# We locate the JSON data using a regular-expression pattern\n",
    "data = re.search(r\"var ytInitialData = ({.*});\", str(soup)).group(1)\n",
    "\n",
    "# Uncomment to view all the data\n",
    "# print(json.dumps(data))\n",
    "\n",
    "# This converts the JSON data to a python dictionary (dict)\n",
    "json_data = json.loads(data)"
   ]
  },
  {
   "cell_type": "code",
   "execution_count": null,
   "id": "ac150a1d",
   "metadata": {},
   "outputs": [],
   "source": [
    "soup"
   ]
  },
  {
   "cell_type": "code",
   "execution_count": null,
   "id": "c9978ced",
   "metadata": {},
   "outputs": [],
   "source": [
    "soup.find(class_=\"index-message\")"
   ]
  },
  {
   "cell_type": "code",
   "execution_count": null,
   "id": "58707052",
   "metadata": {},
   "outputs": [],
   "source": []
  },
  {
   "cell_type": "code",
   "execution_count": null,
   "id": "cbd04738",
   "metadata": {},
   "outputs": [],
   "source": [
    "import pandas as pd\n",
    "pd.set_option('max_colwidth',-1)\n",
    "\n",
    "from bs4 import BeautifulSoup as bs\n",
    "import requests\n",
    "\n",
    "my_url = \"https://www.youtube.com/krishnaik06/videos\"\n",
    "\n",
    "r = requests.get(my_url)\n",
    "page = (r.text)\n",
    "soup=bs(page,'html.parser')\n",
    "\n",
    "d = []\n",
    "for match in soup.find_all('div',class_=\"yt-lockup-content\"):\n",
    "    view = match.find('ul',class_=\"yt-lockup-meta-info\")\n",
    "    d.append(\n",
    "        {\n",
    "            'Title': match.a.text,\n",
    "            'View': view.text.split(\"views\")[0],\n",
    "            'Upload date':view.text.split(\"views\")[1]\n",
    "        }\n",
    "    )\n",
    "\n",
    "pd.DataFrame(d)"
   ]
  },
  {
   "cell_type": "code",
   "execution_count": 12,
   "id": "b945f9d3",
   "metadata": {},
   "outputs": [
    {
     "name": "stderr",
     "output_type": "stream",
     "text": [
      "[WDM] - Downloading: 100%|██████████| 6.78M/6.78M [00:03<00:00, 1.97MB/s]\n"
     ]
    },
    {
     "ename": "TypeError",
     "evalue": "'module' object is not callable",
     "output_type": "error",
     "traceback": [
      "\u001b[1;31m---------------------------------------------------------------------------\u001b[0m",
      "\u001b[1;31mTypeError\u001b[0m                                 Traceback (most recent call last)",
      "Input \u001b[1;32mIn [12]\u001b[0m, in \u001b[0;36m<cell line: 47>\u001b[1;34m()\u001b[0m\n\u001b[0;32m     39\u001b[0m     video_dict \u001b[38;5;241m=\u001b[39m {\n\u001b[0;32m     40\u001b[0m         \u001b[38;5;124m'\u001b[39m\u001b[38;5;124mtitle\u001b[39m\u001b[38;5;124m'\u001b[39m: title\u001b[38;5;241m.\u001b[39mtext,\n\u001b[0;32m     41\u001b[0m         \u001b[38;5;124m'\u001b[39m\u001b[38;5;124mviews\u001b[39m\u001b[38;5;124m'\u001b[39m: view\u001b[38;5;241m.\u001b[39mtext,\n\u001b[0;32m     42\u001b[0m         \u001b[38;5;124m'\u001b[39m\u001b[38;5;124mthumbnail\u001b[39m\u001b[38;5;124m'\u001b[39m: thumb\u001b[38;5;241m.\u001b[39mget_attribute(\u001b[38;5;124m'\u001b[39m\u001b[38;5;124msrc\u001b[39m\u001b[38;5;124m'\u001b[39m),\n\u001b[0;32m     43\u001b[0m         \u001b[38;5;124m'\u001b[39m\u001b[38;5;124mlink\u001b[39m\u001b[38;5;124m'\u001b[39m: link\u001b[38;5;241m.\u001b[39mget_attribute(\u001b[38;5;124m'\u001b[39m\u001b[38;5;124mhref\u001b[39m\u001b[38;5;124m'\u001b[39m)\n\u001b[0;32m     44\u001b[0m     }\n\u001b[0;32m     45\u001b[0m     videos\u001b[38;5;241m.\u001b[39mappend(video_dict)\n\u001b[1;32m---> 47\u001b[0m \u001b[43mpprint\u001b[49m\u001b[43m(\u001b[49m\u001b[43mvideos\u001b[49m\u001b[43m)\u001b[49m\n",
      "\u001b[1;31mTypeError\u001b[0m: 'module' object is not callable"
     ]
    }
   ],
   "source": [
    "import time\n",
    "import pprint\n",
    "\n",
    "from selenium import webdriver\n",
    "from selenium.webdriver.chrome.service import Service\n",
    "from webdriver_manager.chrome import ChromeDriverManager\n",
    "from selenium.webdriver.common.by import By\n",
    "\n",
    "driver = webdriver.Chrome(service=Service(ChromeDriverManager().install()))\n",
    "driver.get(\"https://www.youtube.com/@YasoobKhalid/videos\")\n",
    "\n",
    "channel_title = driver.find_element(By.XPATH, '//yt-formatted-string[contains(@class, \"ytd-channel-name\")]').text\n",
    "handle = driver.find_element(By.XPATH, '//yt-formatted-string[@id=\"channel-handle\"]').text\n",
    "subscriber_count = driver.find_element(By.XPATH, '//yt-formatted-string[@id=\"subscriber-count\"]').text\n",
    "\n",
    "WAIT_IN_SECONDS = 5\n",
    "last_height = driver.execute_script(\"return document.documentElement.scrollHeight\")\n",
    "\n",
    "while True:\n",
    "    # Scroll to the bottom of page\n",
    "    driver.execute_script(\"window.scrollTo(0, arguments[0]);\", last_height)\n",
    "    # Wait for new videos to show up\n",
    "    time.sleep(WAIT_IN_SECONDS)\n",
    "    \n",
    "    # Calculate new document height and compare it with last height\n",
    "    new_height = driver.execute_script(\"return document.documentElement.scrollHeight\")\n",
    "    if new_height == last_height:\n",
    "        break\n",
    "    last_height = new_height\n",
    "\n",
    "\n",
    "thumbnails = driver.find_elements(By.XPATH, '//a[@id=\"thumbnail\"]/yt-image/img')\n",
    "views = driver.find_elements(By.XPATH,'//div[@id=\"metadata-line\"]/span[1]')\n",
    "titles = driver.find_elements(By.ID, \"video-title\")\n",
    "links = driver.find_elements(By.ID, \"video-title-link\")\n",
    "\n",
    "videos = []\n",
    "for title, view, thumb, link in zip(titles, views, thumbnails, links):\n",
    "    video_dict = {\n",
    "        'title': title.text,\n",
    "        'views': view.text,\n",
    "        'thumbnail': thumb.get_attribute('src'),\n",
    "        'link': link.get_attribute('href')\n",
    "    }\n",
    "    videos.append(video_dict)\n",
    "\n",
    "print(videos)"
   ]
  },
  {
   "cell_type": "code",
   "execution_count": 11,
   "id": "454ee7c0",
   "metadata": {},
   "outputs": [
    {
     "name": "stdout",
     "output_type": "stream",
     "text": [
      "Collecting webdriver_manager\n",
      "  Downloading webdriver_manager-3.8.5-py2.py3-none-any.whl (27 kB)\n",
      "Requirement already satisfied: tqdm in c:\\users\\srikanta\\anaconda3\\lib\\site-packages (from webdriver_manager) (4.64.0)\n",
      "Requirement already satisfied: requests in c:\\users\\srikanta\\anaconda3\\lib\\site-packages (from webdriver_manager) (2.27.1)\n",
      "Collecting python-dotenv\n",
      "  Downloading python_dotenv-0.21.1-py3-none-any.whl (19 kB)\n",
      "Requirement already satisfied: packaging in c:\\users\\srikanta\\anaconda3\\lib\\site-packages (from webdriver_manager) (21.3)\n",
      "Requirement already satisfied: pyparsing!=3.0.5,>=2.0.2 in c:\\users\\srikanta\\anaconda3\\lib\\site-packages (from packaging->webdriver_manager) (3.0.4)\n",
      "Requirement already satisfied: urllib3<1.27,>=1.21.1 in c:\\users\\srikanta\\anaconda3\\lib\\site-packages (from requests->webdriver_manager) (1.26.9)\n",
      "Requirement already satisfied: idna<4,>=2.5 in c:\\users\\srikanta\\anaconda3\\lib\\site-packages (from requests->webdriver_manager) (3.3)\n",
      "Requirement already satisfied: charset-normalizer~=2.0.0 in c:\\users\\srikanta\\anaconda3\\lib\\site-packages (from requests->webdriver_manager) (2.0.4)\n",
      "Requirement already satisfied: certifi>=2017.4.17 in c:\\users\\srikanta\\anaconda3\\lib\\site-packages (from requests->webdriver_manager) (2021.10.8)\n",
      "Requirement already satisfied: colorama in c:\\users\\srikanta\\anaconda3\\lib\\site-packages (from tqdm->webdriver_manager) (0.4.4)\n",
      "Installing collected packages: python-dotenv, webdriver-manager\n",
      "Successfully installed python-dotenv-0.21.1 webdriver-manager-3.8.5\n"
     ]
    }
   ],
   "source": [
    "!pip install webdriver_manager"
   ]
  },
  {
   "cell_type": "code",
   "execution_count": null,
   "id": "7bb2dd32",
   "metadata": {},
   "outputs": [],
   "source": [
    "pip uninstall pprintpp"
   ]
  },
  {
   "cell_type": "code",
   "execution_count": null,
   "id": "153f9406",
   "metadata": {},
   "outputs": [],
   "source": []
  }
 ],
 "metadata": {
  "kernelspec": {
   "display_name": "Python 3 (ipykernel)",
   "language": "python",
   "name": "python3"
  },
  "language_info": {
   "codemirror_mode": {
    "name": "ipython",
    "version": 3
   },
   "file_extension": ".py",
   "mimetype": "text/x-python",
   "name": "python",
   "nbconvert_exporter": "python",
   "pygments_lexer": "ipython3",
   "version": "3.9.12"
  }
 },
 "nbformat": 4,
 "nbformat_minor": 5
}
