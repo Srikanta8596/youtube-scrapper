{
 "cells": [
  {
   "cell_type": "code",
   "execution_count": 44,
   "id": "eca4916b",
   "metadata": {},
   "outputs": [],
   "source": [
    "import time\n",
    "from selenium import webdriver\n",
    "from selenium.webdriver.chrome.service import Service\n",
    "from webdriver_manager.chrome import ChromeDriverManager\n",
    "from selenium.webdriver.common.by import By"
   ]
  },
  {
   "cell_type": "markdown",
   "id": "60dc001c",
   "metadata": {},
   "source": [
    "- To know all the number of videos\n",
    "- Title,views,video_link,Video_thumbnail"
   ]
  },
  {
   "cell_type": "code",
   "execution_count": 45,
   "id": "b6bfd1b4",
   "metadata": {},
   "outputs": [],
   "source": [
    "channelName =\"krishnaik06\""
   ]
  },
  {
   "cell_type": "code",
   "execution_count": 46,
   "id": "99a5ec49",
   "metadata": {},
   "outputs": [],
   "source": [
    "youtube_url=\"https://www.youtube.com/\""
   ]
  },
  {
   "cell_type": "code",
   "execution_count": 47,
   "id": "88df60ed",
   "metadata": {},
   "outputs": [],
   "source": [
    "youtube_video_url = \"https://www.youtube.com/\" + '@'+ channelName + \"/videos\""
   ]
  },
  {
   "cell_type": "code",
   "execution_count": 48,
   "id": "34965145",
   "metadata": {},
   "outputs": [],
   "source": [
    "def run_drive(): \n",
    "    option = webdriver.ChromeOptions()\n",
    "    #option.binary_location = os.environ.get(\"GOOGLE_CHROME_BIN\")  # For cloud\n",
    "    option.add_argument('--headless')\n",
    "    option.add_argument('-no-sandbox')\n",
    "    option.add_argument(\"--mute-audio\")\n",
    "    option.add_argument(\"--disable-extensions\")\n",
    "    option.add_argument('-disable-dev-shm-usage')\n",
    "    #driver = webdriver.Chrome(service = Service(executable_path = os.environ.get(\"CHROMEDRIVER_PATH\")), options = option)  # For cloud\n",
    "    #driver = webdriver.Chrome(wd, options=option) # For testing in windows\n",
    "    driver = webdriver.Chrome(service=Service(ChromeDriverManager().install()),options=option)\n",
    "    return driver"
   ]
  },
  {
   "cell_type": "code",
   "execution_count": 49,
   "id": "e39a18f5",
   "metadata": {},
   "outputs": [],
   "source": [
    "def channel_videos(channel_url: str):\n",
    "    driver = run_drive()\n",
    "    driver.get(channel_url)\n",
    "    channel_title = driver.find_element(By.XPATH, '//yt-formatted-string[contains(@class, \"ytd-channel-name\")]').text\n",
    "    handle = driver.find_element(By.XPATH, '//yt-formatted-string[@id=\"channel-handle\"]').text\n",
    "    subscriber_count = driver.find_element(By.XPATH, '//yt-formatted-string[@id=\"subscriber-count\"]').text\n",
    "    WAIT_IN_SECONDS = 5\n",
    "    last_height = driver.execute_script(\"return document.documentElement.scrollHeight\")\n",
    "\n",
    "    while True:\n",
    "        # Scroll to the bottom of page\n",
    "        driver.execute_script(\"window.scrollTo(0, arguments[0]);\", last_height)\n",
    "        # Wait for new videos to show up\n",
    "        time.sleep(WAIT_IN_SECONDS)\n",
    "\n",
    "        # Calculate new document height and compare it with last height\n",
    "        new_height = driver.execute_script(\"return document.documentElement.scrollHeight\")\n",
    "        if new_height == last_height:\n",
    "            break\n",
    "        last_height = new_height\n",
    "\n",
    "\n",
    "    thumbnails = driver.find_elements(By.XPATH, '//a[@id=\"thumbnail\"]/yt-image/img')\n",
    "    views = driver.find_elements(By.XPATH,'//div[@id=\"metadata-line\"]/span[1]')\n",
    "    titles = driver.find_elements(By.ID, \"video-title\")\n",
    "    links = driver.find_elements(By.ID, \"video-title-link\")\n",
    "\n",
    "    videos = []\n",
    "    for title, view, thumb, link in zip(titles, views, thumbnails, links):\n",
    "        video_dict = {\n",
    "            'title': title.text,\n",
    "            'views': view.text,\n",
    "            'thumbnail': thumb.get_attribute('src'),\n",
    "            'link': link.get_attribute('href')\n",
    "        }\n",
    "        videos.append(video_dict)\n",
    "    driver.close()\n",
    "    return videos"
   ]
  },
  {
   "cell_type": "code",
   "execution_count": 50,
   "id": "74d3c132",
   "metadata": {},
   "outputs": [],
   "source": [
    "#NUmber of videos is len(videos)"
   ]
  },
  {
   "cell_type": "code",
   "execution_count": 51,
   "id": "44f7bb57",
   "metadata": {},
   "outputs": [],
   "source": [
    "#video_url=input(\"Enter the url of the website\")\n",
    "def channel_videos(video_url: str):\n",
    "    driver = run_drive()\n",
    "    driver.implicitly_wait(2)\n",
    "    driver.get(video_url)\n",
    "    time.sleep(5)\n",
    "    #infinity scroll\n",
    "    WAIT_IN_SECONDS = 5\n",
    "    last_height = driver.execute_script(\"return document.documentElement.scrollHeight\")\n",
    "\n",
    "    while True:\n",
    "        # Scroll to the bottom of page\n",
    "        driver.execute_script(\"window.scrollTo(0, arguments[0]);\", last_height)\n",
    "        # Wait for new videos to show up\n",
    "        time.sleep(WAIT_IN_SECONDS)\n",
    "\n",
    "        # Calculate new document height and compare it with last height\n",
    "        new_height = driver.execute_script(\"return document.documentElement.scrollHeight\")\n",
    "        if new_height == last_height:\n",
    "            break\n",
    "        last_height = new_height\n",
    "        \n",
    "    page_start=-1*(last_height)\n",
    "    driver.execute_script(\"window.scrollTo(0, arguments[0]);\",page_start)\n",
    "    time.sleep(5)\n",
    "    driver.execute_script('window.scrollBy(0,500);')\n",
    "    time.sleep(5)\n",
    "    ## title of video\n",
    "    video_title = driver.find_element(By.NAME, 'title').get_attribute('content')\n",
    "    ## owner of video\n",
    "    video_owner = driver.find_elements(By.XPATH, '//*[@id=\"text\"]/a')\n",
    "    owner_name=video_owner[0].text\n",
    "    # total comments with replies\n",
    "    video_comment_with_replies = driver.find_element(By.XPATH, '//*[@id=\"count\"]/yt-formatted-string/span[1]').text + ' Comments'\n",
    "    # total number of likes\n",
    "    total_likes_ele = driver.find_element(By.XPATH, '//*[@id=\"segmented-like-button\"]')\n",
    "    total_likes = total_likes_ele.text\n",
    "    ## Scraping all the comments\n",
    "    users = driver.find_elements(By.XPATH, '//*[@id=\"author-text\"]/span')\n",
    "    comments = driver.find_elements(By.XPATH, '//*[@id=\"content-text\"]')\n",
    "    user_comment=[]\n",
    "    for user,comment in zip(users,comments):\n",
    "        video_comment={\n",
    "            'user': user.text,\n",
    "            'comment':comment.text\n",
    "        }\n",
    "        user_comment.append(video_comment)\n",
    "    #Video description\n",
    "    show_more=driver.find_element(By.ID,\"expand\")\n",
    "    show_more.click()\n",
    "    description=driver.find_element(By.ID,\"description-inner\").text\n",
    "    \n",
    "    #Detail video in the dictionary format\n",
    "    video_info={}\n",
    "    video_info['title'] = video_title\n",
    "    video_info['Owner'] = owner_name\n",
    "    video_info['Total comments'] = video_comment_with_replies\n",
    "    video_info['Total likes'] = total_likes\n",
    "    video_info['Description'] = description\n",
    "    video_info['User_comment'] = user_comment\n",
    "    \n",
    "    return video_info"
   ]
  },
  {
   "cell_type": "code",
   "execution_count": 58,
   "id": "8205ab27",
   "metadata": {},
   "outputs": [
    {
     "data": {
      "text/plain": [
       "{'title': 'How Raghav Got 6 Offers In Data Science Coming From Non Technical Domain @iNeuroniNtelligence',\n",
       " 'Owner': 'Krish Naik',\n",
       " 'Total comments': '29 Comments',\n",
       " 'Total likes': '359',\n",
       " 'Description': \"9,441 views  13 Feb 2023\\n#fsdsbootcamp\\nRaghav's Linkedin : https://www.linkedin.com/in/raghavbak...\\nBest Affordable Data Science Course From Pwskills(6-7 Months)\\n\\nImpact Batch:- Data-Science-Masters (Full Stack Data Science)\\n1. Data Science Masters Hindi: https://bit.ly/3CKX1od (Hindi)\\n2. Data Science Masters English: https://bit.ly/3iEjWuH (English)\\n------------------------------------------------------------------------------------------------\\nCheck Out My Other Playlist\\nPython Playlist:\\nPython In English:https://www.youtube.com/watch?v=bPrmA...\\n\\nPython In Hindi: https://www.youtube.com/watch?v=MJd9d...\\n\\nStats Playlist: \\nEnglish 7 Days Statistics Live Session :https://www.youtube.com/watch?v=11unm...\\nHindi: Stats Playlist: https://www.youtube.com/watch?v=7y3Xc...\\n\\nComplete ML Playlist: https://www.youtube.com/watch?v=bPrmA...\\n\\nHindi: ML Playlist: https://www.youtube.com/watch?v=7uwa9...\\n5 DaysLive Deep Learning Playlist: https://www.youtube.com/watch?v=8arGW...\\n\\nComplete Deep Learning Playlist: \\nhttps://www.youtube.com/watch?v=YFNKn...\\nShow less\",\n",
       " 'User_comment': [{'user': '@AkshmaNargotra',\n",
       "   'comment': 'Hardwork pays off\\nKeep it up Raghav'},\n",
       "  {'user': '@subhodwipchatterjee4226',\n",
       "   'comment': \"I also made a transition after fsds bootcamp.i am also from economics background.thanks to @krish sir and the whole team of ineuron.without them it won't be possible.\"},\n",
       "  {'user': '@ameeraharis3126',\n",
       "   'comment': 'Sir u shud have asked the resume preparation details as well which have utmost importance to get a job…n his projects as well'},\n",
       "  {'user': '@umeshmahajan7501',\n",
       "   'comment': \"Hello Krish sir, please make one video or podcast about how to get interview calls. I see lots of people doesn't even getting interview call even after applying lots of application. Getting selected is another part.\"},\n",
       "  {'user': '@shrutigandotra3036', 'comment': 'Well done '},\n",
       "  {'user': '@raviv1752', 'comment': 'Thank You Kriahbhai\\nCongrats to Raghav'},\n",
       "  {'user': '@shivadnya780',\n",
       "   'comment': 'Hi is your course helping the people to get better jobs who are already working in the data science field and what to increase their knowledge'},\n",
       "  {'user': '@Sufi26',\n",
       "   'comment': 'Hi krish, linked in link not mentioned in description.. please provide'},\n",
       "  {'user': '@rupendras.khangarot166',\n",
       "   'comment': 'Please discuss payscale also.'},\n",
       "  {'user': '@trivikramnaidu7038',\n",
       "   'comment': 'Hi krish can you suggest some of job portal and how to apply them'},\n",
       "  {'user': '@MrSuperpdr',\n",
       "   'comment': 'Yes but not all will make such a good deal . Calls are less and cv shortlisting is not happening for people with gaps'},\n",
       "  {'user': '@sata1938',\n",
       "   'comment': 'Thank you sir this is very good teacher, I liked'},\n",
       "  {'user': '@rishiraj2548', 'comment': ''},\n",
       "  {'user': '@tusharsingh9027',\n",
       "   'comment': 'Can I join Ineuron Full stack Data Analytics 2.0 ?'},\n",
       "  {'user': '@mrinmoydey47',\n",
       "   'comment': 'How much cloud certification help in Data Science arena'},\n",
       "  {'user': '@aarizmobin4487', 'comment': 'Great'},\n",
       "  {'user': '@rose9466', 'comment': 'Please can you post the linkedin profile'},\n",
       "  {'user': '@narenbalus5611', 'comment': ''},\n",
       "  {'user': '@sandipansarkar9211', 'comment': 'finished watching'},\n",
       "  {'user': '@aneeshbabukochi8828',\n",
       "   'comment': 'im also FSDS Feb21 batch still im waiting for ineuron placement assistance'},\n",
       "  {'user': '@Emptiness_Everywhere', 'comment': 'First like '},\n",
       "  {'user': '@amitlimaye8142',\n",
       "   'comment': 'All nonsense . One off thing. Training institute are justing creating dummy ai resources no quality'}]}"
      ]
     },
     "execution_count": 58,
     "metadata": {},
     "output_type": "execute_result"
    }
   ],
   "source": [
    "info=channel_videos(video_url=\"https://www.youtube.com/watch?v=0vnaw8soiO4&list=UULFNU_lfiiWBdtULKOw6X0Dig\")\n",
    "info"
   ]
  },
  {
   "cell_type": "code",
   "execution_count": 53,
   "id": "6ce9749b",
   "metadata": {},
   "outputs": [],
   "source": [
    "# Class test"
   ]
  },
  {
   "cell_type": "code",
   "execution_count": 54,
   "id": "2962c572",
   "metadata": {},
   "outputs": [],
   "source": [
    "import time\n",
    "from selenium import webdriver\n",
    "from selenium.webdriver.chrome.service import Service\n",
    "from webdriver_manager.chrome import ChromeDriverManager\n",
    "from selenium.webdriver.common.by import By\n",
    "\n",
    "class scrapper:\n",
    "    def __init__(self, driver_path: str):\n",
    "        self.driver_path=driver_path\n",
    "\n",
    "    def run_driver(self): \n",
    "        option = webdriver.ChromeOptions()\n",
    "        #option.binary_location = os.environ.get(\"GOOGLE_CHROME_BIN\")  # For cloud\n",
    "        option.add_argument('--headless')\n",
    "        option.add_argument('-no-sandbox')\n",
    "        option.add_argument(\"--mute-audio\")\n",
    "        option.add_argument(\"--disable-extensions\")\n",
    "        option.add_argument('-disable-dev-shm-usage')\n",
    "        #driver = webdriver.Chrome(service = Service(executable_path = os.environ.get(\"CHROMEDRIVER_PATH\")), options = option)  # For cloud\n",
    "        driver = webdriver.Chrome(self.driver_path, options=option) # For testing in windows\n",
    "        #driver = webdriver.Chrome(service=Service(ChromeDriverManager().install()),options=option)\n",
    "        return driver\n",
    "\n",
    "    def channel_videos(self,channel_url: str,driver):\n",
    "        driver.get(channel_url)\n",
    "        # channel_title = driver.find_element(By.XPATH, '//yt-formatted-string[contains(@class, \"ytd-channel-name\")]').text\n",
    "        # handle = driver.find_element(By.XPATH, '//yt-formatted-string[@id=\"channel-handle\"]').text\n",
    "        # subscriber_count = driver.find_element(By.XPATH, '//yt-formatted-string[@id=\"subscriber-count\"]').text\n",
    "\n",
    "        WAIT_IN_SECONDS = 5\n",
    "        last_height = driver.execute_script(\"return document.documentElement.scrollHeight\")\n",
    "\n",
    "        while True:\n",
    "            # Scroll to the bottom of page\n",
    "            driver.execute_script(\"window.scrollTo(0, arguments[0]);\", last_height)\n",
    "            # Wait for new videos to show up\n",
    "            time.sleep(WAIT_IN_SECONDS)\n",
    "            # Calculate new document height and compare it with last height\n",
    "            new_height = driver.execute_script(\"return document.documentElement.scrollHeight\")\n",
    "            if new_height == last_height:\n",
    "                break\n",
    "            last_height = new_height\n",
    "\n",
    "\n",
    "        thumbnails = driver.find_elements(By.XPATH, '//a[@id=\"thumbnail\"]/yt-image/img')\n",
    "        views = driver.find_elements(By.XPATH,'//div[@id=\"metadata-line\"]/span[1]')\n",
    "        titles = driver.find_elements(By.ID, \"video-title\")\n",
    "        links = driver.find_elements(By.ID, \"video-title-link\")\n",
    "\n",
    "        videos = []\n",
    "        for title, view, thumb, link in zip(titles, views, thumbnails, links):\n",
    "            video_dict = {\n",
    "                'title': title.text,\n",
    "                'views': view.text,\n",
    "                'thumbnail': thumb.get_attribute('src'),\n",
    "                'link': link.get_attribute('href')\n",
    "            }\n",
    "            videos.append(video_dict)\n",
    "        \n",
    "        return videos\n",
    "\n",
    "    def video_detail(self,video_url: str,driver):\n",
    "       \n",
    "        driver.get(video_url)\n",
    "        time.sleep(5)\n",
    "        #infinity scroll\n",
    "        WAIT_IN_SECONDS = 5\n",
    "        last_height = driver.execute_script(\"return document.documentElement.scrollHeight\")\n",
    "\n",
    "        while True:\n",
    "            # Scroll to the bottom of page\n",
    "            driver.execute_script(\"window.scrollTo(0, arguments[0]);\", last_height)\n",
    "            # Wait for new videos to show up\n",
    "            time.sleep(WAIT_IN_SECONDS)\n",
    "\n",
    "            # Calculate new document height and compare it with last height\n",
    "            new_height = driver.execute_script(\"return document.documentElement.scrollHeight\")\n",
    "            if new_height == last_height:\n",
    "                break\n",
    "            last_height = new_height\n",
    "\n",
    "        page_start=-1*(last_height)\n",
    "        driver.execute_script(\"window.scrollTo(0, arguments[0]);\",page_start)\n",
    "        time.sleep(5)\n",
    "        driver.execute_script('window.scrollBy(0,500);')\n",
    "        time.sleep(5)\n",
    "        ## title of video\n",
    "        video_title = driver.find_element(By.NAME, 'title').get_attribute('content')\n",
    "        ## owner of video\n",
    "        video_owner = driver.find_elements(By.XPATH, '//*[@id=\"text\"]/a')\n",
    "        owner_name=video_owner[0].text\n",
    "        # total comments with replies\n",
    "        video_comment_with_replies = driver.find_element(By.XPATH, '//*[@id=\"count\"]/yt-formatted-string/span[1]').text + ' Comments'\n",
    "        # total number of likes\n",
    "        total_likes_ele = driver.find_element(By.XPATH, '//*[@id=\"segmented-like-button\"]')\n",
    "        total_likes = total_likes_ele.text\n",
    "        ## Scraping all the comments\n",
    "        users = driver.find_elements(By.XPATH, '//*[@id=\"author-text\"]/span')\n",
    "        comments = driver.find_elements(By.XPATH, '//*[@id=\"content-text\"]')\n",
    "        user_comment=[]\n",
    "        for user,comment in zip(users,comments):\n",
    "            video_comment={\n",
    "                'user': user.text,\n",
    "                'comment':comment.text\n",
    "            }\n",
    "            user_comment.append(video_comment)\n",
    "        #Video description\n",
    "        show_more=driver.find_element(By.ID,\"expand\")\n",
    "        show_more.click()\n",
    "        description=driver.find_element(By.ID,\"description-inner\").text        \n",
    "        #Detail video in the dictionary format\n",
    "        video_info={}\n",
    "        video_info['title'] = video_title\n",
    "        video_info['Owner'] = owner_name\n",
    "        video_info['Total comments'] = video_comment_with_replies\n",
    "        video_info['Total likes'] = total_likes\n",
    "        video_info['Description'] = description\n",
    "        video_info['User_comment'] = user_comment\n",
    "        \n",
    "        return video_info"
   ]
  },
  {
   "cell_type": "code",
   "execution_count": null,
   "id": "aa946fcf",
   "metadata": {},
   "outputs": [],
   "source": [
    "channel_id = \"krishnaik06\"\n",
    "youtube_url=\"https://www.youtube.com/\"\n",
    "youtube_video_url = youtube_url + '@'+ channel_id + \"/videos\"\n",
    "\n",
    "youtube_scrapper_obj=scrapper(driver_path=r'\\chromedriver.exe')\n",
    "driver=youtube_scrapper_obj.run_driver()\n",
    "\n",
    "\n",
    "videos=ineuron_scrapper_obj.channel_videos(youtube_video_url,driver)"
   ]
  },
  {
   "cell_type": "code",
   "execution_count": null,
   "id": "2f466d98",
   "metadata": {},
   "outputs": [],
   "source": [
    "videos"
   ]
  },
  {
   "cell_type": "markdown",
   "id": "c7bfe18f",
   "metadata": {},
   "source": [
    "## SQL_DATABASE"
   ]
  },
  {
   "cell_type": "code",
   "execution_count": 59,
   "id": "3abe6f25",
   "metadata": {},
   "outputs": [],
   "source": [
    "import mysql.connector"
   ]
  },
  {
   "cell_type": "code",
   "execution_count": 60,
   "id": "289bb4c9",
   "metadata": {},
   "outputs": [],
   "source": [
    " con=mysql.connector.connect(    \n",
    "            host='localhost',\n",
    "            user='root',\n",
    "            password = 'srikanta',\n",
    "            auth_plugin= 'mysql_native_password',\n",
    "            autocommit=True\n",
    "            )"
   ]
  },
  {
   "cell_type": "code",
   "execution_count": 61,
   "id": "3daf90ea",
   "metadata": {},
   "outputs": [],
   "source": [
    "cur=con.cursor()"
   ]
  },
  {
   "cell_type": "code",
   "execution_count": 62,
   "id": "5b9cb2f7",
   "metadata": {},
   "outputs": [
    {
     "name": "stdout",
     "output_type": "stream",
     "text": [
      "Already exit\n"
     ]
    }
   ],
   "source": [
    "try:\n",
    "    cur.execute('create database youtube_video_detail')\n",
    "except:\n",
    "    print('Already exit')"
   ]
  },
  {
   "cell_type": "code",
   "execution_count": 63,
   "id": "f365dab7",
   "metadata": {},
   "outputs": [],
   "source": [
    "cur.execute('use youtube_video_detail')"
   ]
  },
  {
   "cell_type": "code",
   "execution_count": 64,
   "id": "76f0f8c6",
   "metadata": {},
   "outputs": [
    {
     "ename": "ProgrammingError",
     "evalue": "1050 (42S01): Table 'video_basic_detail' already exists",
     "output_type": "error",
     "traceback": [
      "\u001b[1;31m---------------------------------------------------------------------------\u001b[0m",
      "\u001b[1;31mProgrammingError\u001b[0m                          Traceback (most recent call last)",
      "Input \u001b[1;32mIn [64]\u001b[0m, in \u001b[0;36m<cell line: 1>\u001b[1;34m()\u001b[0m\n\u001b[1;32m----> 1\u001b[0m \u001b[43mcur\u001b[49m\u001b[38;5;241;43m.\u001b[39;49m\u001b[43mexecute\u001b[49m\u001b[43m(\u001b[49m\u001b[38;5;124;43m'\u001b[39;49m\u001b[38;5;124;43mcreate table video_basic_detail (video_title varchar(1000), video_owner varchar(100), total_comments int, total_likes int,  video_description varchar(10000))\u001b[39;49m\u001b[38;5;124;43m'\u001b[39;49m\u001b[43m)\u001b[49m\n",
      "File \u001b[1;32m~\\anaconda3\\lib\\site-packages\\mysql\\connector\\cursor.py:551\u001b[0m, in \u001b[0;36mMySQLCursor.execute\u001b[1;34m(self, operation, params, multi)\u001b[0m\n\u001b[0;32m    549\u001b[0m \u001b[38;5;28;01melse\u001b[39;00m:\n\u001b[0;32m    550\u001b[0m     \u001b[38;5;28;01mtry\u001b[39;00m:\n\u001b[1;32m--> 551\u001b[0m         \u001b[38;5;28mself\u001b[39m\u001b[38;5;241m.\u001b[39m_handle_result(\u001b[38;5;28;43mself\u001b[39;49m\u001b[38;5;241;43m.\u001b[39;49m\u001b[43m_connection\u001b[49m\u001b[38;5;241;43m.\u001b[39;49m\u001b[43mcmd_query\u001b[49m\u001b[43m(\u001b[49m\u001b[43mstmt\u001b[49m\u001b[43m)\u001b[49m)\n\u001b[0;32m    552\u001b[0m     \u001b[38;5;28;01mexcept\u001b[39;00m errors\u001b[38;5;241m.\u001b[39mInterfaceError:\n\u001b[0;32m    553\u001b[0m         \u001b[38;5;28;01mif\u001b[39;00m \u001b[38;5;28mself\u001b[39m\u001b[38;5;241m.\u001b[39m_connection\u001b[38;5;241m.\u001b[39m_have_next_result:  \u001b[38;5;66;03m# pylint: disable=W0212\u001b[39;00m\n",
      "File \u001b[1;32m~\\anaconda3\\lib\\site-packages\\mysql\\connector\\connection.py:490\u001b[0m, in \u001b[0;36mMySQLConnection.cmd_query\u001b[1;34m(self, query, raw, buffered, raw_as_string)\u001b[0m\n\u001b[0;32m    488\u001b[0m \u001b[38;5;28;01mif\u001b[39;00m \u001b[38;5;129;01mnot\u001b[39;00m \u001b[38;5;28misinstance\u001b[39m(query, \u001b[38;5;28mbytes\u001b[39m):\n\u001b[0;32m    489\u001b[0m     query \u001b[38;5;241m=\u001b[39m query\u001b[38;5;241m.\u001b[39mencode(\u001b[38;5;124m'\u001b[39m\u001b[38;5;124mutf-8\u001b[39m\u001b[38;5;124m'\u001b[39m)\n\u001b[1;32m--> 490\u001b[0m result \u001b[38;5;241m=\u001b[39m \u001b[38;5;28;43mself\u001b[39;49m\u001b[38;5;241;43m.\u001b[39;49m\u001b[43m_handle_result\u001b[49m\u001b[43m(\u001b[49m\u001b[38;5;28;43mself\u001b[39;49m\u001b[38;5;241;43m.\u001b[39;49m\u001b[43m_send_cmd\u001b[49m\u001b[43m(\u001b[49m\u001b[43mServerCmd\u001b[49m\u001b[38;5;241;43m.\u001b[39;49m\u001b[43mQUERY\u001b[49m\u001b[43m,\u001b[49m\u001b[43m \u001b[49m\u001b[43mquery\u001b[49m\u001b[43m)\u001b[49m\u001b[43m)\u001b[49m\n\u001b[0;32m    492\u001b[0m \u001b[38;5;28;01mif\u001b[39;00m \u001b[38;5;28mself\u001b[39m\u001b[38;5;241m.\u001b[39m_have_next_result:\n\u001b[0;32m    493\u001b[0m     \u001b[38;5;28;01mraise\u001b[39;00m errors\u001b[38;5;241m.\u001b[39mInterfaceError(\n\u001b[0;32m    494\u001b[0m         \u001b[38;5;124m'\u001b[39m\u001b[38;5;124mUse cmd_query_iter for statements with multiple queries.\u001b[39m\u001b[38;5;124m'\u001b[39m)\n",
      "File \u001b[1;32m~\\anaconda3\\lib\\site-packages\\mysql\\connector\\connection.py:395\u001b[0m, in \u001b[0;36mMySQLConnection._handle_result\u001b[1;34m(self, packet)\u001b[0m\n\u001b[0;32m    393\u001b[0m     \u001b[38;5;28;01mreturn\u001b[39;00m \u001b[38;5;28mself\u001b[39m\u001b[38;5;241m.\u001b[39m_handle_eof(packet)\n\u001b[0;32m    394\u001b[0m \u001b[38;5;28;01melif\u001b[39;00m packet[\u001b[38;5;241m4\u001b[39m] \u001b[38;5;241m==\u001b[39m \u001b[38;5;241m255\u001b[39m:\n\u001b[1;32m--> 395\u001b[0m     \u001b[38;5;28;01mraise\u001b[39;00m errors\u001b[38;5;241m.\u001b[39mget_exception(packet)\n\u001b[0;32m    397\u001b[0m \u001b[38;5;66;03m# We have a text result set\u001b[39;00m\n\u001b[0;32m    398\u001b[0m column_count \u001b[38;5;241m=\u001b[39m \u001b[38;5;28mself\u001b[39m\u001b[38;5;241m.\u001b[39m_protocol\u001b[38;5;241m.\u001b[39mparse_column_count(packet)\n",
      "\u001b[1;31mProgrammingError\u001b[0m: 1050 (42S01): Table 'video_basic_detail' already exists"
     ]
    }
   ],
   "source": [
    "cur.execute('create table video_basic_detail (video_title varchar(1000), video_owner varchar(100), total_comments int, total_likes int,  video_description varchar(10000))')"
   ]
  },
  {
   "cell_type": "code",
   "execution_count": 65,
   "id": "29f0e4e7",
   "metadata": {},
   "outputs": [
    {
     "ename": "ProgrammingError",
     "evalue": "1050 (42S01): Table 'video_user_comment' already exists",
     "output_type": "error",
     "traceback": [
      "\u001b[1;31m---------------------------------------------------------------------------\u001b[0m",
      "\u001b[1;31mProgrammingError\u001b[0m                          Traceback (most recent call last)",
      "Input \u001b[1;32mIn [65]\u001b[0m, in \u001b[0;36m<cell line: 1>\u001b[1;34m()\u001b[0m\n\u001b[1;32m----> 1\u001b[0m \u001b[43mcur\u001b[49m\u001b[38;5;241;43m.\u001b[39;49m\u001b[43mexecute\u001b[49m\u001b[43m(\u001b[49m\u001b[38;5;124;43m'\u001b[39;49m\u001b[38;5;124;43mcreate table video_user_comment (video_owner varchar(100),user varchar(50), comment varchar(2000))\u001b[39;49m\u001b[38;5;124;43m'\u001b[39;49m\u001b[43m)\u001b[49m\n",
      "File \u001b[1;32m~\\anaconda3\\lib\\site-packages\\mysql\\connector\\cursor.py:551\u001b[0m, in \u001b[0;36mMySQLCursor.execute\u001b[1;34m(self, operation, params, multi)\u001b[0m\n\u001b[0;32m    549\u001b[0m \u001b[38;5;28;01melse\u001b[39;00m:\n\u001b[0;32m    550\u001b[0m     \u001b[38;5;28;01mtry\u001b[39;00m:\n\u001b[1;32m--> 551\u001b[0m         \u001b[38;5;28mself\u001b[39m\u001b[38;5;241m.\u001b[39m_handle_result(\u001b[38;5;28;43mself\u001b[39;49m\u001b[38;5;241;43m.\u001b[39;49m\u001b[43m_connection\u001b[49m\u001b[38;5;241;43m.\u001b[39;49m\u001b[43mcmd_query\u001b[49m\u001b[43m(\u001b[49m\u001b[43mstmt\u001b[49m\u001b[43m)\u001b[49m)\n\u001b[0;32m    552\u001b[0m     \u001b[38;5;28;01mexcept\u001b[39;00m errors\u001b[38;5;241m.\u001b[39mInterfaceError:\n\u001b[0;32m    553\u001b[0m         \u001b[38;5;28;01mif\u001b[39;00m \u001b[38;5;28mself\u001b[39m\u001b[38;5;241m.\u001b[39m_connection\u001b[38;5;241m.\u001b[39m_have_next_result:  \u001b[38;5;66;03m# pylint: disable=W0212\u001b[39;00m\n",
      "File \u001b[1;32m~\\anaconda3\\lib\\site-packages\\mysql\\connector\\connection.py:490\u001b[0m, in \u001b[0;36mMySQLConnection.cmd_query\u001b[1;34m(self, query, raw, buffered, raw_as_string)\u001b[0m\n\u001b[0;32m    488\u001b[0m \u001b[38;5;28;01mif\u001b[39;00m \u001b[38;5;129;01mnot\u001b[39;00m \u001b[38;5;28misinstance\u001b[39m(query, \u001b[38;5;28mbytes\u001b[39m):\n\u001b[0;32m    489\u001b[0m     query \u001b[38;5;241m=\u001b[39m query\u001b[38;5;241m.\u001b[39mencode(\u001b[38;5;124m'\u001b[39m\u001b[38;5;124mutf-8\u001b[39m\u001b[38;5;124m'\u001b[39m)\n\u001b[1;32m--> 490\u001b[0m result \u001b[38;5;241m=\u001b[39m \u001b[38;5;28;43mself\u001b[39;49m\u001b[38;5;241;43m.\u001b[39;49m\u001b[43m_handle_result\u001b[49m\u001b[43m(\u001b[49m\u001b[38;5;28;43mself\u001b[39;49m\u001b[38;5;241;43m.\u001b[39;49m\u001b[43m_send_cmd\u001b[49m\u001b[43m(\u001b[49m\u001b[43mServerCmd\u001b[49m\u001b[38;5;241;43m.\u001b[39;49m\u001b[43mQUERY\u001b[49m\u001b[43m,\u001b[49m\u001b[43m \u001b[49m\u001b[43mquery\u001b[49m\u001b[43m)\u001b[49m\u001b[43m)\u001b[49m\n\u001b[0;32m    492\u001b[0m \u001b[38;5;28;01mif\u001b[39;00m \u001b[38;5;28mself\u001b[39m\u001b[38;5;241m.\u001b[39m_have_next_result:\n\u001b[0;32m    493\u001b[0m     \u001b[38;5;28;01mraise\u001b[39;00m errors\u001b[38;5;241m.\u001b[39mInterfaceError(\n\u001b[0;32m    494\u001b[0m         \u001b[38;5;124m'\u001b[39m\u001b[38;5;124mUse cmd_query_iter for statements with multiple queries.\u001b[39m\u001b[38;5;124m'\u001b[39m)\n",
      "File \u001b[1;32m~\\anaconda3\\lib\\site-packages\\mysql\\connector\\connection.py:395\u001b[0m, in \u001b[0;36mMySQLConnection._handle_result\u001b[1;34m(self, packet)\u001b[0m\n\u001b[0;32m    393\u001b[0m     \u001b[38;5;28;01mreturn\u001b[39;00m \u001b[38;5;28mself\u001b[39m\u001b[38;5;241m.\u001b[39m_handle_eof(packet)\n\u001b[0;32m    394\u001b[0m \u001b[38;5;28;01melif\u001b[39;00m packet[\u001b[38;5;241m4\u001b[39m] \u001b[38;5;241m==\u001b[39m \u001b[38;5;241m255\u001b[39m:\n\u001b[1;32m--> 395\u001b[0m     \u001b[38;5;28;01mraise\u001b[39;00m errors\u001b[38;5;241m.\u001b[39mget_exception(packet)\n\u001b[0;32m    397\u001b[0m \u001b[38;5;66;03m# We have a text result set\u001b[39;00m\n\u001b[0;32m    398\u001b[0m column_count \u001b[38;5;241m=\u001b[39m \u001b[38;5;28mself\u001b[39m\u001b[38;5;241m.\u001b[39m_protocol\u001b[38;5;241m.\u001b[39mparse_column_count(packet)\n",
      "\u001b[1;31mProgrammingError\u001b[0m: 1050 (42S01): Table 'video_user_comment' already exists"
     ]
    }
   ],
   "source": [
    "cur.execute('create table video_user_comment (video_owner varchar(100),user varchar(50), comment varchar(2000))')"
   ]
  },
  {
   "cell_type": "code",
   "execution_count": 67,
   "id": "87868016",
   "metadata": {},
   "outputs": [],
   "source": [
    "cur.execute('use youtube_video_detail')"
   ]
  },
  {
   "cell_type": "code",
   "execution_count": 73,
   "id": "ca6f1880",
   "metadata": {},
   "outputs": [],
   "source": [
    "a,b,c,d,e=info['title'],info['Owner'],29,info['Total likes'],info['Description']\n",
    "\n",
    "insert_in_vbd_table_command= f'insert into video_basic_detail values ( \"{a}\", \"{b}\",\"{c}\",\"{int(d)}\",\"{e}\")'\n",
    "cur.execute(insert_in_vbd_table_command)"
   ]
  },
  {
   "cell_type": "code",
   "execution_count": 72,
   "id": "21ccfb7b",
   "metadata": {},
   "outputs": [
    {
     "data": {
      "text/plain": [
       "'29 Comments'"
      ]
     },
     "execution_count": 72,
     "metadata": {},
     "output_type": "execute_result"
    }
   ],
   "source": [
    "c"
   ]
  },
  {
   "cell_type": "code",
   "execution_count": 74,
   "id": "55a0d29c",
   "metadata": {},
   "outputs": [
    {
     "data": {
      "text/plain": [
       "True"
      ]
     },
     "execution_count": 74,
     "metadata": {},
     "output_type": "execute_result"
    }
   ],
   "source": [
    "con.is_connected()"
   ]
  },
  {
   "cell_type": "code",
   "execution_count": null,
   "id": "d86b580e",
   "metadata": {},
   "outputs": [],
   "source": []
  }
 ],
 "metadata": {
  "kernelspec": {
   "display_name": "Python 3 (ipykernel)",
   "language": "python",
   "name": "python3"
  },
  "language_info": {
   "codemirror_mode": {
    "name": "ipython",
    "version": 3
   },
   "file_extension": ".py",
   "mimetype": "text/x-python",
   "name": "python",
   "nbconvert_exporter": "python",
   "pygments_lexer": "ipython3",
   "version": "3.9.12"
  }
 },
 "nbformat": 4,
 "nbformat_minor": 5
}
